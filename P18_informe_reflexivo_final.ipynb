{
 "cells": [
  {
   "cell_type": "markdown",
   "id": "823f9d40",
   "metadata": {},
   "source": [
    "## Informe Reflexivo Final del Proyecto\n",
    "---\n",
    "\n",
    "**¿Qué pasos del plan se realizaron y qué pasos se omitieron (explica por qué)?**\n",
    "- Se realizaron todos los pasos principales del plan: integración y limpieza de datos, análisis exploratorio (EDA), desarrollo y validación de modelos, comparación de resultados e interpretación de métricas. Se omitió únicamente la exposición del modelo en una aplicación web o entorno cloud, ya que el alcance principal era el análisis y modelado, aunque se dejó como recomendación para el futuro.\n",
    "\n",
    "**¿Qué dificultades encontraste y cómo lograste resolverlas?**\n",
    "- Una de las principales dificultades fue la correcta creación de la variable objetivo (`Churn`), ya que inicialmente se procesó incorrectamente el valor 'No' en la columna `EndDate`, lo que generó resultados erróneos. Este error se detectó al observar métricas perfectas en los modelos, lo que llevó a revisar el pipeline y corregir la lógica de creación de la variable objetivo. \n",
    "\n",
    "**¿Cuáles fueron algunos de los pasos clave para resolver la tarea?**\n",
    "- La revisión y corrección de la variable objetivo fue fundamental para obtener resultados válidos. La aplicación de EDA permitió identificar patrones y posibles problemas en los datos. El uso de múltiples modelos y la comparación de métricas ayudó a validar la robustez de los resultados. \n",
    "\n",
    "**¿Cuál es tu modelo final y qué nivel de calidad tiene?**\n",
    "- Los resultados muestran que Random Forest, Regresión Logística, XGBoost y Gradient Boosting obtienen un desempeño perfecto (todas las métricas en 1.0), mientras que SVM y KNN presentan valores considerablemente menores. Desempeño perfecto en varios modelos** suele indicar un posible sobreajuste (overfitting), especialmente si el conjunto de prueba es pequeño, los datos tienen fugas de información (data leakage), o hay variables altamente predictivas (por ejemplo, variables que indirectamente contienen la respuesta).\n",
    "- **SVM y KNN** muestran un desempeño más realista, lo que sugiere que los modelos anteriores pueden estar aprendiendo patrones no generalizables.\n",
    "\n",
    "**Reflexión final:**\n",
    "El proyecto requirió varios ajustes y validaciones para asegurar la calidad de los resultados. Los errores cometidos y corregidos durante el proceso fortalecieron el aprendizaje y la robustez del pipeline. El trabajo realizado cumple con los objetivos y deja bases sólidas para futuras mejoras, como la exposición del modelo en aplicaciones web o servicios cloud."
   ]
  }
 ],
 "metadata": {
  "language_info": {
   "name": "python"
  }
 },
 "nbformat": 4,
 "nbformat_minor": 5
}
